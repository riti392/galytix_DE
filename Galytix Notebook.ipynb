{
 "cells": [
  {
   "cell_type": "code",
   "execution_count": 6,
   "id": "e9dd8215",
   "metadata": {},
   "outputs": [],
   "source": [
    "import pandas as pd\n",
    "from sklearn.metrics.pairwise import cosine_similarity\n",
    "from sklearn.preprocessing import normalize\n",
    "\n",
    "phrases_df = pd.read_csv('phrases (1).csv', sep = \"\\t\", encoding='latin')\n"
   ]
  },
  {
   "cell_type": "code",
   "execution_count": 12,
   "id": "dce00b55",
   "metadata": {},
   "outputs": [],
   "source": [
    "location = 'GoogleNews-vectors-negative300.bin'  # Replace 'uploaded_file_name.bin' with the actual file name you see in your Colab environment\n",
    "\n",
    "import gensim\n",
    "from gensim.models import KeyedVectors\n",
    "\n",
    "wv = KeyedVectors.load_word2vec_format(location, binary=True, limit=1000000)"
   ]
  },
  {
   "cell_type": "code",
   "execution_count": 13,
   "id": "32f45059",
   "metadata": {},
   "outputs": [
    {
     "data": {
      "text/html": [
       "<div>\n",
       "<style scoped>\n",
       "    .dataframe tbody tr th:only-of-type {\n",
       "        vertical-align: middle;\n",
       "    }\n",
       "\n",
       "    .dataframe tbody tr th {\n",
       "        vertical-align: top;\n",
       "    }\n",
       "\n",
       "    .dataframe thead th {\n",
       "        text-align: right;\n",
       "    }\n",
       "</style>\n",
       "<table border=\"1\" class=\"dataframe\">\n",
       "  <thead>\n",
       "    <tr style=\"text-align: right;\">\n",
       "      <th></th>\n",
       "      <th>Phrases</th>\n",
       "    </tr>\n",
       "  </thead>\n",
       "  <tbody>\n",
       "    <tr>\n",
       "      <th>0</th>\n",
       "      <td>how company compares to its peers?</td>\n",
       "    </tr>\n",
       "    <tr>\n",
       "      <th>1</th>\n",
       "      <td>what is the detailed income statement breakdow...</td>\n",
       "    </tr>\n",
       "    <tr>\n",
       "      <th>2</th>\n",
       "      <td>world premium penetration in 2020</td>\n",
       "    </tr>\n",
       "    <tr>\n",
       "      <th>3</th>\n",
       "      <td>How does the forecasted insurance premium pene...</td>\n",
       "    </tr>\n",
       "    <tr>\n",
       "      <th>4</th>\n",
       "      <td>what are the total losses for companies in cou...</td>\n",
       "    </tr>\n",
       "  </tbody>\n",
       "</table>\n",
       "</div>"
      ],
      "text/plain": [
       "                                             Phrases\n",
       "0                 how company compares to its peers?\n",
       "1  what is the detailed income statement breakdow...\n",
       "2                  world premium penetration in 2020\n",
       "3  How does the forecasted insurance premium pene...\n",
       "4  what are the total losses for companies in cou..."
      ]
     },
     "execution_count": 13,
     "metadata": {},
     "output_type": "execute_result"
    }
   ],
   "source": [
    "phrases_df.head()"
   ]
  },
  {
   "cell_type": "code",
   "execution_count": 14,
   "id": "afc7fe36",
   "metadata": {},
   "outputs": [],
   "source": [
    "\n",
    "def calculate_similarity(phrase1, phrase2):\n",
    "    tokens1 = phrase1.split()\n",
    "    tokens2 = phrase2.split()\n",
    "\n",
    "    embeddings1 = [wv[token] for token in tokens1 if token in wv]\n",
    "    embeddings2 = [wv[token] for token in tokens2 if token in wv]\n",
    "\n",
    "    vec1 = normalize(sum(embeddings1).reshape(1, -1))\n",
    "    vec2 = normalize(sum(embeddings2).reshape(1, -1))\n",
    "\n",
    "    similarity = cosine_similarity(vec1, vec2)[0][0]\n",
    "    return similarity\n",
    "\n"
   ]
  },
  {
   "cell_type": "code",
   "execution_count": 15,
   "id": "cd07d903",
   "metadata": {},
   "outputs": [],
   "source": [
    "similarity_matrix = pd.DataFrame(index=phrases_df['Phrases'], columns=phrases_df['Phrases'])\n",
    "for i, phrase1 in enumerate(phrases_df['Phrases']):\n",
    "    for j, phrase2 in enumerate(phrases_df['Phrases']):\n",
    "        similarity_matrix.at[phrase1, phrase2] = calculate_similarity(phrase1, phrase2)\n"
   ]
  },
  {
   "cell_type": "code",
   "execution_count": 18,
   "id": "42f95a82",
   "metadata": {},
   "outputs": [],
   "source": [
    "similarity_matrix.to_csv('similarity_results.csv')\n",
    "\n",
    "def find_closest_match(input_phrase):\n",
    "    similarities = [calculate_similarity(input_phrase, phrase) for phrase in phrases_df['Phrases']]\n",
    "    max_similarity = max(similarities)\n",
    "    closest_match_index = similarities.index(max_similarity)\n",
    "    closest_match = phrases_df['Phrases'].iloc[closest_match_index]\n",
    "    return closest_match, max_similarity\n",
    "\n"
   ]
  },
  {
   "cell_type": "code",
   "execution_count": 20,
   "id": "1e1d1672",
   "metadata": {},
   "outputs": [
    {
     "name": "stdout",
     "output_type": "stream",
     "text": [
      "Closest match: How much money did Lloyd's of London make last year?, Distance: 0.6713978052139282\n"
     ]
    }
   ],
   "source": [
    "user_input = \"i want money for ps5\"\n",
    "closest_match, distance = find_closest_match(user_input)\n",
    "print(f\"Closest match: {closest_match}, Distance: {distance}\")"
   ]
  },
  {
   "cell_type": "code",
   "execution_count": null,
   "id": "8428ad96",
   "metadata": {},
   "outputs": [],
   "source": []
  }
 ],
 "metadata": {
  "kernelspec": {
   "display_name": "Python 3 (ipykernel)",
   "language": "python",
   "name": "python3"
  },
  "language_info": {
   "codemirror_mode": {
    "name": "ipython",
    "version": 3
   },
   "file_extension": ".py",
   "mimetype": "text/x-python",
   "name": "python",
   "nbconvert_exporter": "python",
   "pygments_lexer": "ipython3",
   "version": "3.11.5"
  }
 },
 "nbformat": 4,
 "nbformat_minor": 5
}
